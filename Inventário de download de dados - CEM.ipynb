{
 "cells": [
  {
   "cell_type": "markdown",
   "metadata": {},
   "source": [
    "# Inventário dos downloads de dados do CEM\n"
   ]
  },
  {
   "cell_type": "code",
   "execution_count": 3,
   "metadata": {},
   "outputs": [],
   "source": [
    "import pandas as pd\n",
    "from bs4 import BeautifulSoup\n",
    "import urllib\n",
    "import json"
   ]
  },
  {
   "cell_type": "code",
   "execution_count": null,
   "metadata": {},
   "outputs": [],
   "source": [
    "# TODO\n",
    "# Calcular a quantidade de páginas a partir das bases disponíveis"
   ]
  },
  {
   "cell_type": "code",
   "execution_count": 2,
   "metadata": {},
   "outputs": [],
   "source": [
    "url = 'https://centrodametropole.fflch.usp.br/pt-br/download-de-dados?busca_geral=&items_per_page=40&page={}'"
   ]
  },
  {
   "cell_type": "code",
   "execution_count": 16,
   "metadata": {},
   "outputs": [],
   "source": [
    "datasets = []\n",
    "for i in range(7):\n",
    "    with urllib.request.urlopen(url.format(i)) as reponse:\n",
    "        html = reponse.read()\n",
    "        soup = BeautifulSoup(html, 'html.parser')\n",
    "        for d in soup.find_all(class_='views-field'):\n",
    "            if d.find(class_='texto').find('p'):\n",
    "                descricao = d.find(class_='texto').find('p').string\n",
    "            else:\n",
    "                descricao = ''\n",
    "            dataset = {\n",
    "                'Título': d.find('h2').string,\n",
    "                'Descrição': descricao,\n",
    "                'Downloads': [{'url': l[\"href\"], 'arquivo': l.string.split(\" \")[-1]} for l in d.find(class_='files').find_all('a')],\n",
    "                'Informações': [{c.contents[0].string: c.contents[1]} for c in d.find_all(class_='info-line')[:-1]],\n",
    "                'Data de Lançamento': [c.string for c in d.find_all(class_='info-line')[-1]][2]\n",
    "            }\n",
    "            datasets.append(dataset)\n",
    "            # break\n",
    "    # break"
   ]
  },
  {
   "cell_type": "markdown",
   "metadata": {},
   "source": [
    "## Exportando resultados em formato json"
   ]
  },
  {
   "cell_type": "code",
   "execution_count": 26,
   "metadata": {},
   "outputs": [],
   "source": [
    "with open('resultados/inventario-download-de-dados-CEM.json', \"w\") as outfile:\n",
    "    json.dump(datasets, outfile, indent=4, ensure_ascii=False)"
   ]
  }
 ],
 "metadata": {
  "interpreter": {
   "hash": "9cedc55b3cbf3c6d99ff990673a8ddd4523edd6f7760ad30a6f7807a45845135"
  },
  "kernelspec": {
   "display_name": "Python 3.8.12 ('geo')",
   "language": "python",
   "name": "python3"
  },
  "language_info": {
   "codemirror_mode": {
    "name": "ipython",
    "version": 3
   },
   "file_extension": ".py",
   "mimetype": "text/x-python",
   "name": "python",
   "nbconvert_exporter": "python",
   "pygments_lexer": "ipython3",
   "version": "3.8.12"
  },
  "orig_nbformat": 4
 },
 "nbformat": 4,
 "nbformat_minor": 2
}
